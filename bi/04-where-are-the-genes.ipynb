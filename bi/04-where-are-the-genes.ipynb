{
 "cells": [
  {
   "cell_type": "markdown",
   "metadata": {},
   "source": [
    "**Introduction to Bioinformatics**<br>\n",
    "A masters course by Blaž Zupan and Tomaž Curk<br>\n",
    "University of Ljubljana (C) 2018\n",
    "\n",
    "Disclaimer: this work is a first draft of our working notes. The images were obtained from various web sites, but mainly from the wikipedia entries with explanations of different biological entities. Material is intended for our bioinformatics class and is not meant for distribution.\n",
    "\n",
    "## Lecture Notes Part 4\n",
    "\n",
    "# Where are the genes?"
   ]
  },
  {
   "cell_type": "markdown",
   "metadata": {},
   "source": [
    "They are on the DNA. \n",
    "\n",
    "Ok, but where? At this stage, we will assume that gene is an area of the genome that contains a sequence that is transcribed into an mRNA and then translated into a protein.\n",
    "\n",
    "By now we know about central dogma of molecular biology (essentially, DNA to RNA to protein). We also know that DNA is made of two strains. We also now that the two strains run in the opposite direction, hence one strain is a reverse complement of the other one. Genes can be located in one strain or the other. \n",
    "\n",
    "DNA and RNA are synthesized in the 5' to 3' direction, so that the complementary strain is read from 3' to 5'. As the RNA is read again by complementing its codons with a matching tRNA codon, we really need to read the DNA from 3' to 5' to figure out how the protein will look like. (This paragraph is a bit mind blowing. Every time I lecture on this, I have to think for a couple of minutes. But then I remember that the sequences are complemented twice - once during transcription and the second time during translation). For this reason, 3' to 5' strain is referred to as reference strain, and its complementary strain as a reverse complement."
   ]
  },
  {
   "cell_type": "markdown",
   "metadata": {},
   "source": [
    "## Reading Frames"
   ]
  },
  {
   "cell_type": "markdown",
   "metadata": {},
   "source": [
    "Consider the following DNA fragment\n",
    "\n",
    "    5' TTT GGA TTC CGG 3'\n",
    "    3' AAA CCT AAG GCC 5'\n",
    "\n",
    "The sequence at the bottom, the one from 3' to 5', is our template strain. This sequence will be read in 3' to 5' direction, and RNA will be synthesized to build a sequence of complementary nucleotides. Considering we do not know in which nucleotide do we start, the complementary nucleotides to the template strain are:\n",
    "\n",
    "    TTT GCA TTC CGG\n",
    "    TTG CAT TCC\n",
    "    TGC ATT CGG\n",
    "\n",
    "Notice that instead of thymin, the base actually used in RNA is uracil (U), but we will leave the writing of the above sequence as is, as the coding tables are most often written in the DNA language. Notice also that instead of complementing the template strain, we can read the complement directly from the 5' to 3' strain of the DNA fragment, which is for that reason called the coding strain.\n",
    "\n",
    "Since the DNA sequence is read from 3' to 5' direction, we could also read the upper strain of the DNA fragment. Here, we would need to read from left to right. It is easier to just write dows the so-called reverse complement of this strain, which is \n",
    "\n",
    "    3' CCG GAA TCC AAA 5'\n",
    "\n",
    "Using this strain, the three possible reading frames are\n",
    "\n",
    "    CCG GAA TCC AAA\n",
    "    CGG AAT CCA\n",
    "    GGA ATC CAA\n",
    "\n",
    "We have thus six reading frames and correspoding sequences. Any of these, if transcribed to mRNA, would yield a different protein sequence. For instance, \n",
    "\n",
    "    TTT GCA TTC CGG\n",
    "\n",
    "would be translated into \n",
    "\n",
    "    Phe-Ala-Phe-Ala\n",
    "\n",
    "and \n",
    "\n",
    "    TTG CAT TCC\n",
    "\n",
    "would translate into \n",
    "\n",
    "    Leu-His-Phe\n",
    "\n",
    "Ah, it would be helpful if we could get access to the translation table. Here it is:"
   ]
  },
  {
   "cell_type": "markdown",
   "metadata": {},
   "source": [
    "![](figs/01-code-of-life.png \"Code of life.\")"
   ]
  },
  {
   "cell_type": "markdown",
   "metadata": {},
   "source": [
    "## The Structure of a Gene"
   ]
  },
  {
   "cell_type": "markdown",
   "metadata": {},
   "source": [
    "We have not really addressed our initial question. That is, where are the genes. In fact, we have only additionally complicated the matter by exposing that there are in fact six different reading frames that we have examine when we search for the genes, that is, when we search for the areas which will encode the proteins.\n",
    "\n",
    "Intuitively, something has to mark the region which encodes the protein. Genome has to have a structure, and has to have some labels marking the start of the region that is copied and the end of this region. Let us give this region a name: open reading frame. Open reading frame (ORF) is therefore a region that will be transcribed into an mRNA and then translated into a protein sequence. Turns out that there is a codon that marks the start of an ORF, and a codon that marks its end. In fact, there is usually one start codon (ATG) and there are usually two to three stop codons (depending on the organisms, but usually these are TAA, TGA and TAG).\n",
    "\n",
    "The following figure shows a typical structure of a gene. We will here refer to the structure of bacterial (prokaryotic) gene. Eukaryotic genes (like, genes of human) are more complex as they contain regions that are spliced out (introns). We do not want to deal with the splicing at this stage (it complicates stuff quite a bit)."
   ]
  },
  {
   "cell_type": "markdown",
   "metadata": {},
   "source": [
    "![](figs/03-gene-structure.png \"Gene structure.\")"
   ]
  },
  {
   "cell_type": "markdown",
   "metadata": {},
   "source": [
    "## Sensible Length of ORFs"
   ]
  },
  {
   "cell_type": "markdown",
   "metadata": {},
   "source": [
    "Is everything that we have defined as ORF actually a part of the gene. That is, does every ORF gets translated into a protein. Unfortunately (for us, bioinformatitians) no. Life is more complicated. Fortunately, though, most of the ORFs do belong to actual genes. Biggest exceptions are really short ORFs. They do not get translated into a protein. Proteins are not very short chains. In fact, we would expect (intuitively) the structure of the genome is such that ORFs are in general longer than expected by chance.\n",
    "\n",
    "Ha, here we are, back to permutation tests. But now we know how to handle them. We will find all the ORFs in the genome. Then, we will plot distribution of their length. Then we will randomly permute the genome. And plot the distribution of length of ORFs. And bet the two distributions will be different.\n",
    "\n",
    "We have used *M. genitalium* for our experiment. First, distribution of ORF lenghts in its genome:"
   ]
  },
  {
   "cell_type": "markdown",
   "metadata": {},
   "source": [
    "<img src=\"figs/03-orf-genitalium.png\" alt=\"ORF length in M. genitalium.\" style=\"width: 600px;\"/>"
   ]
  },
  {
   "cell_type": "markdown",
   "metadata": {},
   "source": [
    "There are many very small ORFs. They probably do not encode any proteins. Let us see how many ORFs do we have that are longer than a 100 codons."
   ]
  },
  {
   "cell_type": "markdown",
   "metadata": {},
   "source": [
    "<img src=\"figs/03-orf-genitalium-long.png\" alt=\"ORF length in M. genitalium.\" style=\"width: 600px;\"/>"
   ]
  },
  {
   "cell_type": "markdown",
   "metadata": {},
   "source": [
    "There are quite some. Now we should plot the lenght of the ORFs in the randomly permuted genome. We are here mostly concerned with a bit longer ORFs, so we will skip plotting the part of the distribution that refers to shorther ORFs."
   ]
  },
  {
   "cell_type": "markdown",
   "metadata": {},
   "source": [
    "<img src=\"figs/03-orf-genitalium-permuted.png\" alt=\"ORF length in M. genitalium.\" style=\"width: 600px;\"/>"
   ]
  },
  {
   "cell_type": "markdown",
   "metadata": {},
   "source": [
    "There are not that many long ORFs in the permuted genome. In fact, there are very very few ORFs longer than 70 codons, and even fever longer than a 100. We could even say that an ORF whose length would be over, say, 70 in the original (non-permuted) genome would probably be there \"on purpose\" and would probably be there to encode a protein."
   ]
  },
  {
   "cell_type": "markdown",
   "metadata": {},
   "source": [
    "## A Simple Theoretical Analysis on the Length of ORFs that Encode Proteins"
   ]
  },
  {
   "cell_type": "markdown",
   "metadata": {},
   "source": [
    "Let us make a while assumption: all codons are created equal. That is, the probability to encounter them is the same. This is really a wild assumption, and the probabilities we will use can be easily replaced with true probabilities estimated from the actual sequences.\n",
    "\n",
    "But let us continue with this simple assumption. We will use it to estimate the probability that we encounter a run of subsequent codons that do not include a stop codon. For $k$ codons, this probability is equal to $(61/63)^k$, as there are three stop codons. Let us assume this probability should be very low, as we do not want to have ORFs that are there by chance and we want long stretches of codons that would not be present if there would not be any structure in the DNA sequence. So let us say that the probability to encounter such a sequence by chance should be lower than $\\alpha$, and that it is reasonable to choose $\\alpha=0.05$. We now have\n",
    "\n",
    "$$({61\\over 64})^k \\leq\\alpha$$\n",
    "\n",
    "$$ k\\geq{\\log\\alpha \\over \\log 61-\\log 64} $$\n",
    "\n",
    "For $\\alpha=0.05$ we have $k\\approx 63$. Which is surprisingly close to what we have observed from *M. genitalium*. Therefore, when hunting for genes, it would be safe to discard all the ORFS that are shorter than 64 codons."
   ]
  }
 ],
 "metadata": {
  "kernelspec": {
   "display_name": "Python 3 (ipykernel)",
   "language": "python",
   "name": "python3"
  },
  "language_info": {
   "codemirror_mode": {
    "name": "ipython",
    "version": 3
   },
   "file_extension": ".py",
   "mimetype": "text/x-python",
   "name": "python",
   "nbconvert_exporter": "python",
   "pygments_lexer": "ipython3",
   "version": "3.10.12"
  }
 },
 "nbformat": 4,
 "nbformat_minor": 4
}
